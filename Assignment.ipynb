{
 "cells": [
  {
   "cell_type": "markdown",
   "metadata": {},
   "source": [
    "## Jupyter notebook to describe the Assignment for the Programming in Data Analysis subject"
   ]
  },
  {
   "cell_type": "markdown",
   "metadata": {},
   "source": [
    "A) Overall purpose of the package: Random values to create a BitGenerator by Generators\n",
    "ref: numpy.org->BitGenerators: (https://numpy.org/doc/stable/reference/random/bit_generators/index.html)\n",
    "ref : machinelearningmastery.com (https://machinelearningmastery.com/how-to-generate-random-numbers-in-python/)"
   ]
  },
  {
   "cell_type": "code",
   "execution_count": 17,
   "metadata": {},
   "outputs": [
    {
     "name": "stdout",
     "output_type": "stream",
     "text": [
      "seed = 134392916044896191450715706898323595985\n",
      "seed = 57387038345107581076089298551560416717\n",
      "seed = 115802360104320011450096443590262171644\n"
     ]
    }
   ],
   "source": [
    "from numpy.random import PCG64\n",
    "\n",
    "bg = PCG64(12345678903141592653589793)\n",
    "\n",
    "from numpy.random import PCG64, SeedSequence\n",
    "\n",
    "# Get the user's seed somehow, maybe through `argparse`.\n",
    "# If the user did not provide a seed, it should return `None`.\n",
    "#seed = get_user_seed()\n",
    "ss = SeedSequence(seed(1))\n",
    "print('seed = {}'.format(ss.entropy))\n",
    "bg = PCG64(ss)\n",
    "\n",
    "ss = SeedSequence(seed(2))\n",
    "print('seed = {}'.format(ss.entropy))\n",
    "bg = PCG64(ss)\n",
    "\n",
    "ss = SeedSequence(seed(1))\n",
    "print('seed = {}'.format(ss.entropy))\n",
    "bg = PCG64(ss)"
   ]
  },
  {
   "cell_type": "code",
   "execution_count": null,
   "metadata": {},
   "outputs": [],
   "source": []
  }
 ],
 "metadata": {
  "kernelspec": {
   "display_name": "Python 3",
   "language": "python",
   "name": "python3"
  },
  "language_info": {
   "codemirror_mode": {
    "name": "ipython",
    "version": 3
   },
   "file_extension": ".py",
   "mimetype": "text/x-python",
   "name": "python",
   "nbconvert_exporter": "python",
   "pygments_lexer": "ipython3",
   "version": "3.8.3"
  }
 },
 "nbformat": 4,
 "nbformat_minor": 4
}
